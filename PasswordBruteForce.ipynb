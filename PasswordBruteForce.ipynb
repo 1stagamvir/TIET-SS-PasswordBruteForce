{
  "nbformat": 4,
  "nbformat_minor": 0,
  "metadata": {
    "colab": {
      "provenance": [],
      "authorship_tag": "ABX9TyPhg7RIF9IxVICXwV31Us1h",
      "include_colab_link": true
    },
    "kernelspec": {
      "name": "python3",
      "display_name": "Python 3"
    },
    "language_info": {
      "name": "python"
    }
  },
  "cells": [
    {
      "cell_type": "markdown",
      "metadata": {
        "id": "view-in-github",
        "colab_type": "text"
      },
      "source": [
        "<a href=\"https://colab.research.google.com/github/1stagamvir/TIET-SS-PasswordBruteForce/blob/main/PasswordBruteForce.ipynb\" target=\"_parent\"><img src=\"https://colab.research.google.com/assets/colab-badge.svg\" alt=\"Open In Colab\"/></a>"
      ]
    },
    {
      "cell_type": "code",
      "source": [
        "import os\n",
        "from random import randint\n",
        "\n",
        "pas = input(\"Enter the password: \")\n",
        "keys = [\"1\",\"2\",\"3\",\"4\",\"5\",\"6\",\"7\",\"8\",\"9\",\"0\",\n",
        "        \"a\",\"b\",\"c\",\"d\",\"e\",\"f\",\"g\",\"h\",\"i\",\"j\",\n",
        "        \"k\",\"l\",\"m\",\"n\",\"o\",\"p\",\"q\",\"r\",\"s\",\"t\",\n",
        "        \"u\",\"v\",\"w\",\"x\",\"y\",\"z\",\n",
        "        \"A\",\"B\",\"C\",\"D\",\"E\",\"F\",\"G\",\"H\",\"I\",\"J\",\n",
        "        \"K\",\"L\",\"M\",\"N\",\"O\",\"P\",\"Q\",\"R\",\"S\",\"T\",\n",
        "        \"U\",\"V\",\"W\",\"X\",\"Y\",\"Z\",\n",
        "        \"!\",\"@\",\"#\",\"$\",\"%\",\"^\",\"&\",\"*\",\"(\",\")\"]\n",
        "\n",
        "attempts = 0\n",
        "pwg = \"\"\n",
        "\n",
        "while pwg != pas:\n",
        "    pwg = \"\"\n",
        "    for _ in range(len(pas)):\n",
        "        pwg += keys[randint(0, len(keys)-1)]\n",
        "\n",
        "    attempts += 1\n",
        "    if attempts % 1000 == 0:  # Print every 1000 attempts\n",
        "        print(f\"Attempt {attempts}: {pwg}\")\n",
        "\n",
        "print(f\"\\nPassword found in {attempts} attempts!\")\n",
        "print(f\"The password is: {pwg}\")"
      ],
      "metadata": {
        "id": "cuZSIO_rVnXp"
      },
      "execution_count": null,
      "outputs": []
    }
  ]
}